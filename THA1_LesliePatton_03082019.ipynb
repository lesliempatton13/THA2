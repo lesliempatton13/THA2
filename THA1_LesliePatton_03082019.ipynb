{
  "nbformat": 4,
  "nbformat_minor": 0,
  "metadata": {
    "colab": {
      "name": "THA1_LesliePatton_03082019.ipynb",
      "version": "0.3.2",
      "provenance": [],
      "collapsed_sections": [],
      "toc_visible": true
    },
    "kernelspec": {
      "name": "python3",
      "display_name": "Python 3"
    }
  },
  "cells": [
    {
      "metadata": {
        "id": "URXmshBUHWUm",
        "colab_type": "text"
      },
      "cell_type": "markdown",
      "source": [
        "**Take Home Assignment 1**\n",
        "Leslie Patton\n",
        "2/15/2019"
      ]
    },
    {
      "metadata": {
        "colab_type": "text",
        "id": "_0dff6TaLerc"
      },
      "cell_type": "markdown",
      "source": [
        "#**Data Set #1- Texas Agency of Education STAAR Data**\n",
        "\n",
        "\n",
        "##**Data Used:**\n",
        "\n",
        "https://tea.texas.gov/student.assessment/staar/aggregate/\n",
        "*   STAAR 2017 Eng I Campus Level Data\n",
        "*   STAAR 2018 Eng II Campus Level Data\n",
        "\n",
        "\n",
        "###Description of Data:\n",
        "\n",
        "  This data was collected from the Texas Education Agencies STAAR yearly testing data. The data is in a csv file, with the link provided in the script. This data includes various variables that measure student achievement broken down by ethnicity, special classifications, and gender in addition to other things. I chose to use to use district level 2017 and 2018 data to do a comparison among the same (or very similar) set of students. This years were specifically chosen to assess the impact of a natural disaster on student learning and achievement as Hurricane Harvey struck between the two tests.  \n",
        "\n",
        "After investigating the statistical differences among tests before and after a natural disaster, these differences will be mapped onto the state of Texas, and evaluated in comarison to the areas hurricane damage. \n",
        "\n",
        "\n",
        "\n"
      ]
    },
    {
      "metadata": {
        "id": "SXjsP3a9HiCB",
        "colab_type": "code",
        "outputId": "bb407669-6c14-4205-e3c1-08ecd0a75c34",
        "colab": {
          "base_uri": "https://localhost:8080/",
          "height": 1598
        }
      },
      "cell_type": "code",
      "source": [
        "import pandas as pd\n",
        "EngII_2018= pd.read_csv(\"https://tea.texas.gov/WorkArea/DownloadAsset.aspx?id=51539615814\")\n",
        "EngI_2017= pd.read_csv(\"https://tea.texas.gov/WorkArea/DownloadAsset.aspx?id=51539615812\")\n",
        "\n",
        "#print (EngII_2018.head(15))\n",
        "#print (EngI_2017.head(50))\n",
        "\n",
        "#print(list(EngI_2017))\n",
        "#print(list(EngII_2018))\n",
        "\n",
        "print (\"\\n1. English I 2017 STAAR Data\")\n",
        "EngI_2017_col = EngI_2017[[\"CNAME\",\"DNAME\", \"e1_all_d\",\"e1_all_unsatgl_nm\", \"e1_all_approgl_nm\", \"e1_all_meetsgl_nm\", \"e1_all_mastrgl_nm\"]]\n",
        "#print(EngI_2017_col.head(10))\n",
        "\n",
        "print (\"\\n2. English II 2018 STAAR Data\")\n",
        "EngII_2018_col = EngII_2018[[\"CNAME\", \"DNAME\", \"e2_all_d\",\"e2_all_unsatgl_nm\",\"e2_all_approgl_nm\", \"e2_all_meetsgl_nm\", \"e2_all_mastrgl_nm\"]]\n",
        "#print(EngII_2018_col.head(10))\n",
        "\n",
        "EngSTAAR1_2_2017_2018 = EngI_2017_col.merge(EngII_2018_col, on=\"DNAME\", how=\"inner\")\n",
        "print (\"\\n1. English I and II 2017-2018 Merged Data\")\n",
        "print(EngSTAAR1_2_2017_2018.sample(20))\n",
        "\n",
        "\n",
        "\n",
        "\n"
      ],
      "execution_count": 5,
      "outputs": [
        {
          "output_type": "stream",
          "text": [
            "\n",
            "1. English I 2017 STAAR Data\n",
            "\n",
            "2. English II 2018 STAAR Data\n",
            "\n",
            "1. English I and II 2017-2018 Merged Data\n",
            "               CNAME_x            DNAME  e1_all_d  e1_all_unsatgl_nm  \\\n",
            "6412   PREMIER HIGH SC  PREMIER HIGH SC        20               16.0   \n",
            "11434     CAMPBELL H S     CAMPBELL ISD        35               16.0   \n",
            "2914   JUSTIN F KIMBAL       DALLAS ISD       610              389.0   \n",
            "2984    L G PINKSTON H       DALLAS ISD       409              224.0   \n",
            "575     HARMONY SCHOOL  HARMONY SCIENCE       110               24.0   \n",
            "2432    FORT WORTH CAN  TEXANS CAN ACAD       201              170.0   \n",
            "120    RICHARD MILBURN  RICHARD MILBURN        72               64.0   \n",
            "11481  PATHWAYS LEARNI     BEAUMONT ISD         3                NaN   \n",
            "4795    THE COLONY H S   LEWISVILLE ISD       425              158.0   \n",
            "7997       MADISON H S      HOUSTON ISD       668              479.0   \n",
            "14134      AUSTIN OAKS  UNIVERSITY OF T         2                NaN   \n",
            "9747   HOUSTON ACADEMY      HOUSTON ISD       134                7.0   \n",
            "13801      ABILENE H S      ABILENE ISD       654              294.0   \n",
            "11376      SUNDOWN H S      SUNDOWN ISD        53                3.0   \n",
            "49      PLEASANTON ISD   PLEASANTON ISD         6                5.0   \n",
            "3715    ROSIE SORRELLS       DALLAS ISD        79                2.0   \n",
            "5487   PREMIER H S AME  PREMIER HIGH SC        16               12.0   \n",
            "13644  THE PHOENIX ACA    MANSFIELD ISD         9                5.0   \n",
            "3558   SCHOOL OF BUSIN       DALLAS ISD       124                2.0   \n",
            "10802  IDEA COLLEGE PR  IDEA PUBLIC SCH       127               39.0   \n",
            "\n",
            "       e1_all_approgl_nm  e1_all_meetsgl_nm  e1_all_mastrgl_nm  \\\n",
            "6412                 4.0                1.0                0.0   \n",
            "11434               19.0               13.0                1.0   \n",
            "2914               221.0              107.0                3.0   \n",
            "2984               185.0              119.0                5.0   \n",
            "575                 86.0               68.0               12.0   \n",
            "2432                31.0                5.0                0.0   \n",
            "120                  8.0                1.0                0.0   \n",
            "11481                NaN                NaN                NaN   \n",
            "4795               267.0              192.0               41.0   \n",
            "7997               189.0               75.0                5.0   \n",
            "14134                NaN                NaN                NaN   \n",
            "9747               127.0              113.0               20.0   \n",
            "13801              360.0              244.0               30.0   \n",
            "11376               50.0               42.0                8.0   \n",
            "49                   1.0                0.0                0.0   \n",
            "3715                77.0               74.0               13.0   \n",
            "5487                 4.0                1.0                0.0   \n",
            "13644                4.0                1.0                1.0   \n",
            "3558               122.0              121.0               18.0   \n",
            "10802               88.0               63.0               11.0   \n",
            "\n",
            "               CNAME_y  e2_all_d  e2_all_unsatgl_nm  e2_all_approgl_nm  \\\n",
            "6412    PREMIER H S OF        17               11.0                6.0   \n",
            "11434     CAMPBELL H S        40               19.0               21.0   \n",
            "2914    TRINIDAD GARZA       114                1.0              113.0   \n",
            "2984   IRMA LERMA RANG        68                0.0               68.0   \n",
            "575    HARMONY SCIENCE       120               28.0               92.0   \n",
            "2432   GARLAND CAN ACA        93               66.0               27.0   \n",
            "120    RICHARD MILBURN        72               66.0                6.0   \n",
            "11481  JEFFERSON CO YO         2                NaN                NaN   \n",
            "4795    THE COLONY H S       410              104.0              306.0   \n",
            "7997    MIDDLE COLLEGE        63               54.0                9.0   \n",
            "14134  HOUSTON BEHAVIO         1                NaN                NaN   \n",
            "9747      WORTHING H S       280              213.0               67.0   \n",
            "13801       COOPER H S       478              180.0              298.0   \n",
            "11376      SUNDOWN H S        52                2.0               50.0   \n",
            "49      PLEASANTON ISD         5                3.0                2.0   \n",
            "3715   WILMER-HUTCHINS       284              180.0              104.0   \n",
            "5487    PREMIER H S OF         9                6.0                3.0   \n",
            "13644  THE PHOENIX ACA        14               10.0                4.0   \n",
            "3558    SCHOOL FOR THE        67                0.0               67.0   \n",
            "10802  IDEA COLLEGE PR       102               16.0               86.0   \n",
            "\n",
            "       e2_all_meetsgl_nm  e2_all_mastrgl_nm  \n",
            "6412                 3.0                0.0  \n",
            "11434               14.0                1.0  \n",
            "2914               111.0               28.0  \n",
            "2984                68.0               18.0  \n",
            "575                 80.0               17.0  \n",
            "2432                 8.0                0.0  \n",
            "120                  3.0                0.0  \n",
            "11481                NaN                NaN  \n",
            "4795               245.0               28.0  \n",
            "7997                 4.0                0.0  \n",
            "14134                NaN                NaN  \n",
            "9747                30.0                2.0  \n",
            "13801              216.0               16.0  \n",
            "11376               44.0                5.0  \n",
            "49                   1.0                0.0  \n",
            "3715                49.0                0.0  \n",
            "5487                 0.0                0.0  \n",
            "13644                1.0                0.0  \n",
            "3558                67.0               46.0  \n",
            "10802               71.0                5.0  \n"
          ],
          "name": "stdout"
        }
      ]
    },
    {
      "metadata": {
        "id": "mJIYkcz4QNbw",
        "colab_type": "text"
      },
      "cell_type": "markdown",
      "source": [
        "#**Data Set #2- USGS Produced Water Data**\n",
        "\n",
        "##Description of Data:\n",
        "This dataset from the US Geological Society and is in a csv format. The dataset reports on the produced water from oil and gas wells across the United States. Produced water is a byproduct of oil and gas production, yielding a large excess of impure water that must be recycled, put back into the well (fracking), or transported away. Within the last decade, a large focus on recycling this water for resuse has emerged. \n",
        "\n",
        "My focus using this dataset, is to analyze the output of water in each well, and the impurities in the water across the region, and map the locations of each based on levels of impurities. This can serve as a resource for portraying and prediciting water output and impurity level based on proximity. This can be useful for continuing to develop novel ways to recycle and clean produced water for the different areas across the United States. \n"
      ]
    },
    {
      "metadata": {
        "id": "KqdMffPBQp7h",
        "colab_type": "code",
        "outputId": "51dda6d9-81a3-4f4c-caa8-0380e7f42b83",
        "colab": {
          "base_uri": "https://localhost:8080/",
          "height": 496
        }
      },
      "cell_type": "code",
      "source": [
        "import pandas as pd\n",
        "USGS_PW= pd.read_csv(\"https://energy.usgs.gov/Portals/0/Rooms/produced_waters/tabular/USGSPWDBv2.3c.csv\")\n",
        "\n",
        "#print(USGS_PW.head(10))\n",
        "\n",
        "#print(list(USGS_PW))\n",
        "\n",
        "print (\"\\n1. USGS Location with Mineral Types\")\n",
        "USGS_PW_col = USGS_PW[[\"STATE\",\"COUNTY\",\"BASIN\",\"LATITUDE\",\"LONGITUDE\",\"Cl\", \"KNa\", \"NO2\", \"NH4\"]]\n",
        "print(USGS_PW_col.tail(10))\n",
        "\n"
      ],
      "execution_count": 0,
      "outputs": [
        {
          "output_type": "stream",
          "text": [
            "/usr/local/lib/python3.6/dist-packages/IPython/core/interactiveshell.py:2718: DtypeWarning: Columns (1,3,4,7,8,14,15,17,19,21,22,23,24,27,29,30,31,32,33,34,36,37,40,45,46,47,48,49,50,52,53,54,55,56,57,59,61,62,63,66,67,68,71,72,73,74,75,76,77,78,79,80,81,82,83,84,85,86,87,88,89,90,91,92,93,94,95,96,97,98,99,100,101,102,103,104,106,107,108,109,110,111,112,113,114,115,116,118,119,120,121,123,124,125,126,127,128,129,130,131,132,133,134,135,136,139,140,141,143,144,146,147,151,152,153,154,156,159,160,162,165,166,167,168,169,170,174,175,178,183,184,187,188) have mixed types. Specify dtype option on import or set low_memory=False.\n",
            "  interactivity=interactivity, compiler=compiler, result=result)\n"
          ],
          "name": "stderr"
        },
        {
          "output_type": "stream",
          "text": [
            "\n",
            "1. USGS Location with Mineral Types\n",
            "         STATE               COUNTY               BASIN  LATITUDE  LONGITUDE  \\\n",
            "114933  Alaska  North Slope Borough  Alaska North Slope    70.266   -148.863   \n",
            "114934  Alaska  North Slope Borough  Alaska North Slope    70.266   -148.863   \n",
            "114935  Alaska  North Slope Borough  Alaska North Slope    70.266   -148.863   \n",
            "114936  Alaska  North Slope Borough  Alaska North Slope    70.266   -148.863   \n",
            "114937  Alaska  North Slope Borough  Alaska North Slope    70.266   -148.863   \n",
            "114938  Alaska  North Slope Borough  Alaska North Slope    70.266   -148.863   \n",
            "114939  Alaska  North Slope Borough  Alaska North Slope    70.266   -148.863   \n",
            "114940  Alaska  North Slope Borough  Alaska North Slope    70.266   -148.863   \n",
            "114941  Alaska                  NaN     Southern Alaska       NaN        NaN   \n",
            "114942  Alaska                  NaN     Southern Alaska       NaN        NaN   \n",
            "\n",
            "              Cl  KNa  NO2  NH4  \n",
            "114933     17500  NaN  NaN  NaN  \n",
            "114934     10845  NaN  NaN  NaN  \n",
            "114935       UNK  NaN  NaN  NaN  \n",
            "114936     25911  NaN  NaN  NaN  \n",
            "114937     24345  NaN  NaN  NaN  \n",
            "114938     26500  NaN  NaN  NaN  \n",
            "114939     26300  NaN  NaN  NaN  \n",
            "114940     25100  NaN  NaN  NaN  \n",
            "114941  12900.91  NaN  NaN  NaN  \n",
            "114942   8706.13  NaN  NaN  NaN  \n"
          ],
          "name": "stdout"
        }
      ]
    },
    {
      "metadata": {
        "id": "KeQWCToqe_Yj",
        "colab_type": "text"
      },
      "cell_type": "markdown",
      "source": [
        "#**Data Set #3 -**  \n",
        "\n",
        "##World Bank Data on the Number of Patents in the United States Across Time\n",
        "\n",
        "This data set was pulled from the World Bank Data (https://databank.worldbank.org/data/reports.aspx?source=world-development-indicators) focusing on the number of patents produce in the United States from 1960-2018. This data set was exported as an excel file. Upon obtaining data on the number of *science and technology patents* specificaly produced across the same time period, I look to compare the levels of overall science and technology patents issued as a ratio of all patents. \n",
        "\n",
        "There has been much speculation about the decline of science and technology patents due to the overwhelming slowness associated with the  patent process and the rapid pace at which technology and science is moving. My hypothesis is seeing a decline in science and technology process and an alternative method to the patent process for these fields. \n"
      ]
    },
    {
      "metadata": {
        "id": "iYPmg9VRdFnx",
        "colab_type": "code",
        "outputId": "ce79e70e-7278-43a9-c790-f4c0770e332c",
        "colab": {
          "base_uri": "https://localhost:8080/",
          "height": 496
        }
      },
      "cell_type": "code",
      "source": [
        "import pandas as pd\n",
        "US_Patents= pd.read_excel(\"Data_Extract_From_World_Development_Indicators.xlsx\")\n",
        "\n",
        "\n",
        "print(list(US_Patents))\n",
        "\n",
        "print (\"\\n1. Number of Patents in the United States for Residents\")\n",
        "US_Patents_col = US_Patents[[\"Time\",\"Patent applications, residents [IP.PAT.RESD]\"]]\n",
        "print(US_Patents_col.head(10))\n",
        "\n",
        "print (\"\\n2. Number of Patents in the United States for Non-Residents\")\n",
        "US_Patents_col = US_Patents[[\"Time\",\"Patent applications, nonresidents [IP.PAT.NRES]\"]]\n",
        "print(US_Patents_col.head(10))"
      ],
      "execution_count": 0,
      "outputs": [
        {
          "output_type": "stream",
          "text": [
            "['Time', 'Time Code', 'Country Name', 'Country Code', 'Patent applications, residents [IP.PAT.RESD]', 'Patent applications, nonresidents [IP.PAT.NRES]']\n",
            "\n",
            "1. Number of Patents in the United States for Residents\n",
            "   Time Patent applications, residents [IP.PAT.RESD]\n",
            "0  1960                                        63090\n",
            "1  1961                                        66335\n",
            "2  1962                                           ..\n",
            "3  1963                                        66715\n",
            "4  1964                                        67013\n",
            "5  1965                                        72317\n",
            "6  1966                                        66855\n",
            "7  1967                                        64118\n",
            "8  1968                                        67180\n",
            "9  1969                                        71008\n",
            "\n",
            "2. Number of Patents in the United States for Non-Residents\n",
            "   Time Patent applications, nonresidents [IP.PAT.NRES]\n",
            "0  1960                                           16631\n",
            "1  1961                                           17061\n",
            "2  1962                                              ..\n",
            "3  1963                                           19154\n",
            "4  1964                                           20579\n",
            "5  1965                                           22312\n",
            "6  1966                                           21670\n",
            "7  1967                                           24046\n",
            "8  1968                                           26291\n",
            "9  1969                                           30407\n"
          ],
          "name": "stdout"
        }
      ]
    }
  ]
}