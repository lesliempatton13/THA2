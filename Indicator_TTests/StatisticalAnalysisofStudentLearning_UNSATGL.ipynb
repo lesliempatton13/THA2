{
  "nbformat": 4,
  "nbformat_minor": 0,
  "metadata": {
    "colab": {
      "name": "StatisticalAnalysisofStudentLearning.ipynb",
      "version": "0.3.2",
      "provenance": [],
      "collapsed_sections": [],
      "toc_visible": true
    },
    "kernelspec": {
      "name": "python3",
      "display_name": "Python 3"
    }
  },
  "cells": [
    {
      "metadata": {
        "id": "KhflxpfU9ZZk",
        "colab_type": "text"
      },
      "cell_type": "markdown",
      "source": [
        "#Script Code for Creating individual CSV files for each indicator to be evaluated.#\n",
        "\n",
        "##First File- \"EngSTAAR_Merged_UNSATGL\"##\n",
        "###*Merged by campus name*###\n",
        "\n",
        "e1_all_unsatgl_rm : % Did Not Meet Grade Level Performance -- English I -- All Students\n",
        "\n",
        "e2_all_unsatgl_rm : % Did Not Meet Grade Level Performance -- English II -- All Students"
      ]
    },
    {
      "metadata": {
        "id": "cEn6xxmj0LyA",
        "colab_type": "code",
        "colab": {}
      },
      "cell_type": "code",
      "source": [
        "import pandas as pd\n",
        "EngII_2018= pd.read_csv(\"https://tea.texas.gov/WorkArea/DownloadAsset.aspx?id=51539615814\")\n",
        "EngI_2017= pd.read_csv(\"https://tea.texas.gov/WorkArea/DownloadAsset.aspx?id=51539615812\")\n",
        "\n",
        "EngSTAAR_Merged= EngI_2017.merge(EngII_2018, on=\"CNAME\", how=\"inner\")\n",
        "#print(EngSTAAR_Merged.sample(50))\n",
        "\n",
        "EngSTAAR_Merged_UNSATGL= EngSTAAR_Merged[[\"CNAME\",\"e1_all_unsatgl_rm\",\"e2_all_unsatgl_rm\"]]\n",
        "#print(EngSTAAR_Merged_UNSATGL)\n",
        "\n",
        "#EngSTAAR_Merged_UNSATGL.to_csv('EngSTAAR_Merged_UNSATGL.csv')\n"
      ],
      "execution_count": 0,
      "outputs": []
    },
    {
      "metadata": {
        "id": "GHhC-coOvOGW",
        "colab_type": "text"
      },
      "cell_type": "markdown",
      "source": [
        "#Cleaning Data- removing rows with any empty cells#"
      ]
    },
    {
      "metadata": {
        "id": "imUxNo0gK-nr",
        "colab_type": "code",
        "colab": {}
      },
      "cell_type": "code",
      "source": [
        "import csv\n",
        "\n",
        "### Replace with path to your file ###\n",
        "inputFile = 'EngSTAAR_Merged_UNSATGL.csv'\n",
        "outputFile = 'EngSTAAR_Merged_UNSATGL_clean.csv'\n",
        "\n",
        "output = []\n",
        "\n",
        "with open(inputFile, 'r') as inputRows:\n",
        "    reader = csv.reader(inputRows)\n",
        "    # Loop through rows\n",
        "    for row in reader:\n",
        "        hasMissingValues = False\n",
        "        # Check each cell\n",
        "        for cell in row:\n",
        "            if cell in (None, \"\"):\n",
        "                hasMissingValues = True\n",
        "                continue\n",
        "        # Add to output if there are NO missing values\n",
        "        if not hasMissingValues:\n",
        "            output.append(row)\n",
        "\n",
        "with open(outputFile, 'w') as outputRows:\n",
        "    writer = csv.writer(outputRows, delimiter=',')\n",
        "    for row in output:\n",
        "        writer.writerow(row)\n",
        "\n",
        "#EngSTAAR_Merged_UNSATGL_clean.csv is \"cleaned\" by taking out all blanks\n",
        "\n",
        "#df = pd.read_csv(\"EngSTAAR_Merged_UNSATGL_clean_headers.csv\")\n",
        "#print(df)"
      ],
      "execution_count": 0,
      "outputs": []
    },
    {
      "metadata": {
        "id": "IH8SVQuMvapT",
        "colab_type": "text"
      },
      "cell_type": "markdown",
      "source": [
        "#Checking data for missing cells; re-labeled first column so it wasn't deleted \"N-samples\"#"
      ]
    },
    {
      "metadata": {
        "id": "nXemY3JpP6cK",
        "colab_type": "code",
        "colab": {}
      },
      "cell_type": "code",
      "source": [
        "df = pd.read_csv(\"EngSTAAR_Merged_UNSATGL_clean_headers.csv\")\n",
        "#print(df)"
      ],
      "execution_count": 0,
      "outputs": []
    },
    {
      "metadata": {
        "id": "GZplqngl-Yx2",
        "colab_type": "text"
      },
      "cell_type": "markdown",
      "source": [
        "#Importing pandas, code, and taking a look at the data from % of students not meeting grade level performance from 2017 (e1) and 2018 (e2)#"
      ]
    },
    {
      "metadata": {
        "id": "o3rMc0c16gsp",
        "colab_type": "code",
        "outputId": "e1a6ba9e-72d6-4be3-9612-565ebf4a5594",
        "colab": {
          "base_uri": "https://localhost:8080/",
          "height": 297
        }
      },
      "cell_type": "code",
      "source": [
        "import pandas as pd\n",
        "\n",
        "df = pd.read_csv(\"EngSTAAR_Merged_UNSATGL_clean_headers.csv\")\n",
        "\n",
        "df[['e1_all_unsatgl_rm','e2_all_unsatgl_rm']].describe()\n",
        "\n"
      ],
      "execution_count": 4,
      "outputs": [
        {
          "output_type": "execute_result",
          "data": {
            "text/html": [
              "<div>\n",
              "<style scoped>\n",
              "    .dataframe tbody tr th:only-of-type {\n",
              "        vertical-align: middle;\n",
              "    }\n",
              "\n",
              "    .dataframe tbody tr th {\n",
              "        vertical-align: top;\n",
              "    }\n",
              "\n",
              "    .dataframe thead th {\n",
              "        text-align: right;\n",
              "    }\n",
              "</style>\n",
              "<table border=\"1\" class=\"dataframe\">\n",
              "  <thead>\n",
              "    <tr style=\"text-align: right;\">\n",
              "      <th></th>\n",
              "      <th>e1_all_unsatgl_rm</th>\n",
              "      <th>e2_all_unsatgl_rm</th>\n",
              "    </tr>\n",
              "  </thead>\n",
              "  <tbody>\n",
              "    <tr>\n",
              "      <th>count</th>\n",
              "      <td>3491.000000</td>\n",
              "      <td>3491.000000</td>\n",
              "    </tr>\n",
              "    <tr>\n",
              "      <th>mean</th>\n",
              "      <td>47.402177</td>\n",
              "      <td>44.742194</td>\n",
              "    </tr>\n",
              "    <tr>\n",
              "      <th>std</th>\n",
              "      <td>24.137995</td>\n",
              "      <td>23.433170</td>\n",
              "    </tr>\n",
              "    <tr>\n",
              "      <th>min</th>\n",
              "      <td>0.000000</td>\n",
              "      <td>0.000000</td>\n",
              "    </tr>\n",
              "    <tr>\n",
              "      <th>25%</th>\n",
              "      <td>30.000000</td>\n",
              "      <td>27.000000</td>\n",
              "    </tr>\n",
              "    <tr>\n",
              "      <th>50%</th>\n",
              "      <td>45.000000</td>\n",
              "      <td>41.000000</td>\n",
              "    </tr>\n",
              "    <tr>\n",
              "      <th>75%</th>\n",
              "      <td>67.000000</td>\n",
              "      <td>61.000000</td>\n",
              "    </tr>\n",
              "    <tr>\n",
              "      <th>max</th>\n",
              "      <td>100.000000</td>\n",
              "      <td>100.000000</td>\n",
              "    </tr>\n",
              "  </tbody>\n",
              "</table>\n",
              "</div>"
            ],
            "text/plain": [
              "       e1_all_unsatgl_rm  e2_all_unsatgl_rm\n",
              "count        3491.000000        3491.000000\n",
              "mean           47.402177          44.742194\n",
              "std            24.137995          23.433170\n",
              "min             0.000000           0.000000\n",
              "25%            30.000000          27.000000\n",
              "50%            45.000000          41.000000\n",
              "75%            67.000000          61.000000\n",
              "max           100.000000         100.000000"
            ]
          },
          "metadata": {
            "tags": []
          },
          "execution_count": 4
        }
      ]
    },
    {
      "metadata": {
        "id": "wQGTWtlm_RKn",
        "colab_type": "code",
        "outputId": "8634e78f-8808-4d83-bf52-7fb610fbe5d1",
        "colab": {
          "base_uri": "https://localhost:8080/",
          "height": 347
        }
      },
      "cell_type": "code",
      "source": [
        "from scipy import stats\n",
        "import matplotlib.pyplot as plt\n",
        "\n",
        "df[['e1_all_unsatgl_rm', 'e2_all_unsatgl_rm']].plot(kind='box')\n",
        "\n",
        "# This saves the plot as a png file\n",
        "\n",
        "plt.savefig('boxplot_outliers.png')"
      ],
      "execution_count": 0,
      "outputs": [
        {
          "output_type": "display_data",
          "data": {
            "image/png": "[encoded data removed]",
            "text/plain": [
              "<Figure size 576x396 with 1 Axes>"
            ]
          },
          "metadata": {
            "tags": []
          }
        }
      ]
    },
    {
      "metadata": {
        "id": "NbMs2G-UDYWC",
        "colab_type": "code",
        "outputId": "45cf04a9-1753-4d5b-f954-30a9b008c7ab",
        "colab": {
          "base_uri": "https://localhost:8080/",
          "height": 362
        }
      },
      "cell_type": "code",
      "source": [
        "df['unsatgl_difference'] = df['e1_all_unsatgl_rm'] - df['e2_all_unsatgl_rm']\n",
        "\n",
        "df['unsatgl_difference'].plot(kind='hist', title= 'Did  not Meet Grade Level Performance Difference Histogram')\n",
        "\n",
        "#Again, this saves the plot as a png file\n",
        "\n",
        "plt.savefig('Did  not Meet Grade Level Performance difference histogram.png')"
      ],
      "execution_count": 0,
      "outputs": [
        {
          "output_type": "display_data",
          "data": {
            "image/png": "[encoded data removed]",
            "text/plain": [
              "<Figure size 576x396 with 1 Axes>"
            ]
          },
          "metadata": {
            "tags": []
          }
        }
      ]
    },
    {
      "metadata": {
        "id": "62nhjRdvEWkQ",
        "colab_type": "code",
        "outputId": "87a589ac-0b7c-4ad8-9a85-d445932399f5",
        "colab": {
          "base_uri": "https://localhost:8080/",
          "height": 376
        }
      },
      "cell_type": "code",
      "source": [
        "stats.probplot(df['unsatgl_difference'], plot= plt)\n",
        "plt.title('UNSATGL Difference Q-Q Plot')\n",
        "plt.savefig('UNSATGL difference qq plot.png')"
      ],
      "execution_count": 0,
      "outputs": [
        {
          "output_type": "display_data",
          "data": {
            "image/png": "[encoded data removed]",
            "text/plain": [
              "<Figure size 576x396 with 1 Axes>"
            ]
          },
          "metadata": {
            "tags": []
          }
        }
      ]
    },
    {
      "metadata": {
        "id": "3cerqoiAwqei",
        "colab_type": "text"
      },
      "cell_type": "markdown",
      "source": [
        "#Paired T-Test#\n",
        "###Significant###\n",
        "\n",
        "Statistic = 9.128\n",
        "\n",
        "P-value= 1.14d-19"
      ]
    },
    {
      "metadata": {
        "id": "nhtnqVa5Ez5T",
        "colab_type": "code",
        "outputId": "4598e602-b35d-452c-e1a4-691cae45fd82",
        "colab": {
          "base_uri": "https://localhost:8080/",
          "height": 34
        }
      },
      "cell_type": "code",
      "source": [
        "stats.ttest_rel(df['e1_all_unsatgl_rm'], df['e2_all_unsatgl_rm'])"
      ],
      "execution_count": 0,
      "outputs": [
        {
          "output_type": "execute_result",
          "data": {
            "text/plain": [
              "Ttest_relResult(statistic=9.128761115543066, pvalue=1.1439806828782533e-19)"
            ]
          },
          "metadata": {
            "tags": []
          },
          "execution_count": 82
        }
      ]
    }
  ]
}