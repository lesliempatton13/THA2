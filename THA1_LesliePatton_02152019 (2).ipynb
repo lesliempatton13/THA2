{
  "nbformat": 4,
  "nbformat_minor": 0,
  "metadata": {
    "colab": {
      "name": "THA1_LesliePatton_02152019.ipynb",
      "version": "0.3.2",
      "provenance": [],
      "collapsed_sections": [],
      "toc_visible": true
    },
    "kernelspec": {
      "name": "python3",
      "display_name": "Python 3"
    }
  },
  "cells": [
    {
      "metadata": {
        "id": "URXmshBUHWUm",
        "colab_type": "text"
      },
      "cell_type": "markdown",
      "source": [
        "**Take Home Assignment 1**\n",
        "Leslie Patton\n",
        "2/15/2019"
      ]
    },
    {
      "metadata": {
        "colab_type": "text",
        "id": "_0dff6TaLerc"
      },
      "cell_type": "markdown",
      "source": [
        "#**Data Set #1- Texas Agency of Education STAAR Data**\n",
        "\n",
        "\n",
        "##**Data Used:**\n",
        "*   STAAR 2017 Eng I District Level Data\n",
        "*   STAAR 2018 Eng II District Level Data\n",
        "\n",
        "\n",
        "###Description of Data:\n",
        "\n",
        "  This data was collected from the Texas Education Agencies STAAR yearly testing data. The data is in a csv file, with the link provided in the script. This data includes various variables that measure student achievement broken down by ethnicity, special classifications, and gender in addition to other things. I chose to use to use district level 2017 and 2018 data to do a comparison among the same (or very similar) set of students. This years were specifically chosen to assess the impact of a natural disaster on student learning and achievement as Hurricane Harvey struck between the two tests.  \n",
        "\n",
        "After investigating the statistical differences among tests before and after a natural disaster, these differences will be mapped onto the state of Texas, and evaluated in comarison to the areas hurricane damage. \n",
        "\n",
        "\n",
        "\n"
      ]
    },
    {
      "metadata": {
        "id": "SXjsP3a9HiCB",
        "colab_type": "code",
        "outputId": "6722653e-ccf7-46ba-a830-cdf8bf50fd8a",
        "colab": {
          "base_uri": "https://localhost:8080/",
          "height": 442
        }
      },
      "cell_type": "code",
      "source": [
        "import pandas as pd\n",
        "EngII_2018= pd.read_csv(\"https://tea.texas.gov/WorkArea/DownloadAsset.aspx?id=51539623770\")\n",
        "EngI_2017= pd.read_csv(\"https://tea.texas.gov/WorkArea/DownloadAsset.aspx?id=51539615860\")\n",
        "\n",
        "#print (EngII_2018.head(15))\n",
        "#print (EngI_2017.head(50))\n",
        "\n",
        "#print(list(EngI_2017))\n",
        "#print(list(EngII_2018))\n",
        "\n",
        "#print (\"\\n1. English I 2017 STAAR Data\")\n",
        "EngI_2017_col = EngI_2017[[\"DNAME\",\"e1_all_d\",\"e1_all_unsatgl_nm\", \"e1_all_docs_n\"]]\n",
        "#print(EngI_2017_col.head(10))\n",
        "\n",
        "#print (\"\\n2. English II 2018 STAAR Data\")\n",
        "EngII_2018_col = EngII_2018[[\"DNAME\",\"e2_all_d\",\"e2_all_unsatgl_nm\",\"e2_all_docs_n\"]]\n",
        "#print(EngII_2018_col.head(10))\n",
        "\n",
        "EngSTAAR1_2_2017_2018 = EngI_2017_col.merge(EngII_2018_col, on=\"DNAME\", how=\"inner\")\n",
        "print (\"\\n1. English I and II 2017-2018 Merged Data\")\n",
        "print(EngSTAAR1_2_2017_2018.sample(10))\n",
        "\n",
        "\n",
        "\n",
        "\n"
      ],
      "execution_count": 24,
      "outputs": [
        {
          "output_type": "stream",
          "text": [
            "\n",
            "1. English I and II 2017-2018 Merged Data\n",
            "                DNAME  e1_all_d  e1_all_unsatgl_nm  e1_all_docs_n  e2_all_d  \\\n",
            "565         ANTON ISD        20               13.0             20        11   \n",
            "711       HIGGINS ISD        15                6.0             15         9   \n",
            "938     STRATFORD ISD        41               14.0             41        35   \n",
            "435       SHERMAN ISD       638              291.0            652       560   \n",
            "532   CROSS ROADS ISD        47                8.0             47        42   \n",
            "1024        EANES ISD       700               25.0            702       706   \n",
            "956          ROMA ISD       632              333.0            652       548   \n",
            "252   VALLEY VIEW ISD       480              191.0            485       453   \n",
            "562       AQUILLA ISD        23                5.0             24        26   \n",
            "193       ANAHUAC ISD       106               47.0            106        97   \n",
            "\n",
            "      e2_all_unsatgl_nm  e2_all_docs_n  \n",
            "565                 7.0             11  \n",
            "711                 3.0              9  \n",
            "938                 7.0             35  \n",
            "435               219.0            567  \n",
            "532                 9.0             42  \n",
            "1024               25.0            711  \n",
            "956               265.0            564  \n",
            "252               171.0            456  \n",
            "562                 6.0             26  \n",
            "193                25.0             97  \n"
          ],
          "name": "stdout"
        }
      ]
    },
    {
      "metadata": {
        "id": "mJIYkcz4QNbw",
        "colab_type": "text"
      },
      "cell_type": "markdown",
      "source": [
        "#**Data Set #2- USGS Produced Water Data**\n",
        "\n",
        "##Description of Data:\n",
        "This dataset from the US Geological Society and is in a csv format. The dataset reports on the produced water from oil and gas wells across the United States. Produced water is a byproduct of oil and gas production, yielding a large excess of impure water that must be recycled, put back into the well (fracking), or transported away. Within the last decade, a large focus on recycling this water for resuse has emerged. \n",
        "\n",
        "My focus using this dataset, is to analyze the output of water in each well, and the impurities in the water across the region, and map the locations of each based on levels of impurities. This can serve as a resource for portraying and prediciting water output and impurity level based on proximity. This can be useful for continuing to develop novel ways to recycle and clean produced water for the different areas across the United States. \n"
      ]
    },
    {
      "metadata": {
        "id": "KqdMffPBQp7h",
        "colab_type": "code",
        "outputId": "51dda6d9-81a3-4f4c-caa8-0380e7f42b83",
        "colab": {
          "base_uri": "https://localhost:8080/",
          "height": 496
        }
      },
      "cell_type": "code",
      "source": [
        "import pandas as pd\n",
        "USGS_PW= pd.read_csv(\"https://energy.usgs.gov/Portals/0/Rooms/produced_waters/tabular/USGSPWDBv2.3c.csv\")\n",
        "\n",
        "#print(USGS_PW.head(10))\n",
        "\n",
        "#print(list(USGS_PW))\n",
        "\n",
        "print (\"\\n1. USGS Location with Mineral Types\")\n",
        "USGS_PW_col = USGS_PW[[\"STATE\",\"COUNTY\",\"BASIN\",\"LATITUDE\",\"LONGITUDE\",\"Cl\", \"KNa\", \"NO2\", \"NH4\"]]\n",
        "print(USGS_PW_col.tail(10))\n",
        "\n"
      ],
      "execution_count": 25,
      "outputs": [
        {
          "output_type": "stream",
          "text": [
            "/usr/local/lib/python3.6/dist-packages/IPython/core/interactiveshell.py:2718: DtypeWarning: Columns (1,3,4,7,8,14,15,17,19,21,22,23,24,27,29,30,31,32,33,34,36,37,40,45,46,47,48,49,50,52,53,54,55,56,57,59,61,62,63,66,67,68,71,72,73,74,75,76,77,78,79,80,81,82,83,84,85,86,87,88,89,90,91,92,93,94,95,96,97,98,99,100,101,102,103,104,106,107,108,109,110,111,112,113,114,115,116,118,119,120,121,123,124,125,126,127,128,129,130,131,132,133,134,135,136,139,140,141,143,144,146,147,151,152,153,154,156,159,160,162,165,166,167,168,169,170,174,175,178,183,184,187,188) have mixed types. Specify dtype option on import or set low_memory=False.\n",
            "  interactivity=interactivity, compiler=compiler, result=result)\n"
          ],
          "name": "stderr"
        },
        {
          "output_type": "stream",
          "text": [
            "\n",
            "1. USGS Location with Mineral Types\n",
            "         STATE               COUNTY               BASIN  LATITUDE  LONGITUDE  \\\n",
            "114933  Alaska  North Slope Borough  Alaska North Slope    70.266   -148.863   \n",
            "114934  Alaska  North Slope Borough  Alaska North Slope    70.266   -148.863   \n",
            "114935  Alaska  North Slope Borough  Alaska North Slope    70.266   -148.863   \n",
            "114936  Alaska  North Slope Borough  Alaska North Slope    70.266   -148.863   \n",
            "114937  Alaska  North Slope Borough  Alaska North Slope    70.266   -148.863   \n",
            "114938  Alaska  North Slope Borough  Alaska North Slope    70.266   -148.863   \n",
            "114939  Alaska  North Slope Borough  Alaska North Slope    70.266   -148.863   \n",
            "114940  Alaska  North Slope Borough  Alaska North Slope    70.266   -148.863   \n",
            "114941  Alaska                  NaN     Southern Alaska       NaN        NaN   \n",
            "114942  Alaska                  NaN     Southern Alaska       NaN        NaN   \n",
            "\n",
            "              Cl  KNa  NO2  NH4  \n",
            "114933     17500  NaN  NaN  NaN  \n",
            "114934     10845  NaN  NaN  NaN  \n",
            "114935       UNK  NaN  NaN  NaN  \n",
            "114936     25911  NaN  NaN  NaN  \n",
            "114937     24345  NaN  NaN  NaN  \n",
            "114938     26500  NaN  NaN  NaN  \n",
            "114939     26300  NaN  NaN  NaN  \n",
            "114940     25100  NaN  NaN  NaN  \n",
            "114941  12900.91  NaN  NaN  NaN  \n",
            "114942   8706.13  NaN  NaN  NaN  \n"
          ],
          "name": "stdout"
        }
      ]
    },
    {
      "metadata": {
        "id": "KeQWCToqe_Yj",
        "colab_type": "text"
      },
      "cell_type": "markdown",
      "source": [
        "#**Data Set #3 -**  \n",
        "\n",
        "##World Bank Data on the Number of Patents in the United States Across Time\n",
        "\n",
        "This data set was pulled from the World Bank Data (https://databank.worldbank.org/data/reports.aspx?source=world-development-indicators) focusing on the number of patents produce in the United States from 1960-2018. This data set was exported as an excel file. Upon obtaining data on the number of *science and technology patents* specificaly produced across the same time period, I look to compare the levels of overall science and technology patents issued as a ratio of all patents. \n",
        "\n",
        "There has been much speculation about the decline of science and technology patents due to the overwhelming slowness associated with the  patent process and the rapid pace at which technology and science is moving. My hypothesis is seeing a decline in science and technology process and an alternative method to the patent process for these fields. \n"
      ]
    },
    {
      "metadata": {
        "id": "iYPmg9VRdFnx",
        "colab_type": "code",
        "outputId": "04dee74a-9077-425c-8fd1-b2d02efeb9da",
        "colab": {
          "resources": {
            "http://localhost:8080/nbextensions/google.colab/files.js": {
              "data": "Ly8gQ29weXJpZ2h0IDIwMTcgR29vZ2xlIExMQwovLwovLyBMaWNlbnNlZCB1bmRlciB0aGUgQXBhY2hlIExpY2Vuc2UsIFZlcnNpb24gMi4wICh0aGUgIkxpY2Vuc2UiKTsKLy8geW91IG1heSBub3QgdXNlIHRoaXMgZmlsZSBleGNlcHQgaW4gY29tcGxpYW5jZSB3aXRoIHRoZSBMaWNlbnNlLgovLyBZb3UgbWF5IG9idGFpbiBhIGNvcHkgb2YgdGhlIExpY2Vuc2UgYXQKLy8KLy8gICAgICBodHRwOi8vd3d3LmFwYWNoZS5vcmcvbGljZW5zZXMvTElDRU5TRS0yLjAKLy8KLy8gVW5sZXNzIHJlcXVpcmVkIGJ5IGFwcGxpY2FibGUgbGF3IG9yIGFncmVlZCB0byBpbiB3cml0aW5nLCBzb2Z0d2FyZQovLyBkaXN0cmlidXRlZCB1bmRlciB0aGUgTGljZW5zZSBpcyBkaXN0cmlidXRlZCBvbiBhbiAiQVMgSVMiIEJBU0lTLAovLyBXSVRIT1VUIFdBUlJBTlRJRVMgT1IgQ09ORElUSU9OUyBPRiBBTlkgS0lORCwgZWl0aGVyIGV4cHJlc3Mgb3IgaW1wbGllZC4KLy8gU2VlIHRoZSBMaWNlbnNlIGZvciB0aGUgc3BlY2lmaWMgbGFuZ3VhZ2UgZ292ZXJuaW5nIHBlcm1pc3Npb25zIGFuZAovLyBsaW1pdGF0aW9ucyB1bmRlciB0aGUgTGljZW5zZS4KCi8qKgogKiBAZmlsZW92ZXJ2aWV3IEhlbHBlcnMgZm9yIGdvb2dsZS5jb2xhYiBQeXRob24gbW9kdWxlLgogKi8KKGZ1bmN0aW9uKHNjb3BlKSB7CmZ1bmN0aW9uIHNwYW4odGV4dCwgc3R5bGVBdHRyaWJ1dGVzID0ge30pIHsKICBjb25zdCBlbGVtZW50ID0gZG9jdW1lbnQuY3JlYXRlRWxlbWVudCgnc3BhbicpOwogIGVsZW1lbnQudGV4dENvbnRlbnQgPSB0ZXh0OwogIGZvciAoY29uc3Qga2V5IG9mIE9iamVjdC5rZXlzKHN0eWxlQXR0cmlidXRlcykpIHsKICAgIGVsZW1lbnQuc3R5bGVba2V5XSA9IHN0eWxlQXR0cmlidXRlc1trZXldOwogIH0KICByZXR1cm4gZWxlbWVudDsKfQoKLy8gTWF4IG51bWJlciBvZiBieXRlcyB3aGljaCB3aWxsIGJlIHVwbG9hZGVkIGF0IGEgdGltZS4KY29uc3QgTUFYX1BBWUxPQURfU0laRSA9IDEwMCAqIDEwMjQ7Ci8vIE1heCBhbW91bnQgb2YgdGltZSB0byBibG9jayB3YWl0aW5nIGZvciB0aGUgdXNlci4KY29uc3QgRklMRV9DSEFOR0VfVElNRU9VVF9NUyA9IDMwICogMTAwMDsKCmZ1bmN0aW9uIF91cGxvYWRGaWxlcyhpbnB1dElkLCBvdXRwdXRJZCkgewogIGNvbnN0IHN0ZXBzID0gdXBsb2FkRmlsZXNTdGVwKGlucHV0SWQsIG91dHB1dElkKTsKICBjb25zdCBvdXRwdXRFbGVtZW50ID0gZG9jdW1lbnQuZ2V0RWxlbWVudEJ5SWQob3V0cHV0SWQpOwogIC8vIENhY2hlIHN0ZXBzIG9uIHRoZSBvdXRwdXRFbGVtZW50IHRvIG1ha2UgaXQgYXZhaWxhYmxlIGZvciB0aGUgbmV4dCBjYWxsCiAgLy8gdG8gdXBsb2FkRmlsZXNDb250aW51ZSBmcm9tIFB5dGhvbi4KICBvdXRwdXRFbGVtZW50LnN0ZXBzID0gc3RlcHM7CgogIHJldHVybiBfdXBsb2FkRmlsZXNDb250aW51ZShvdXRwdXRJZCk7Cn0KCi8vIFRoaXMgaXMgcm91Z2hseSBhbiBhc3luYyBnZW5lcmF0b3IgKG5vdCBzdXBwb3J0ZWQgaW4gdGhlIGJyb3dzZXIgeWV0KSwKLy8gd2hlcmUgdGhlcmUgYXJlIG11bHRpcGxlIGFzeW5jaHJvbm91cyBzdGVwcyBhbmQgdGhlIFB5dGhvbiBzaWRlIGlzIGdvaW5nCi8vIHRvIHBvbGwgZm9yIGNvbXBsZXRpb24gb2YgZWFjaCBzdGVwLgovLyBUaGlzIHVzZXMgYSBQcm9taXNlIHRvIGJsb2NrIHRoZSBweXRob24gc2lkZSBvbiBjb21wbGV0aW9uIG9mIGVhY2ggc3RlcCwKLy8gdGhlbiBwYXNzZXMgdGhlIHJlc3VsdCBvZiB0aGUgcHJldmlvdXMgc3RlcCBhcyB0aGUgaW5wdXQgdG8gdGhlIG5leHQgc3RlcC4KZnVuY3Rpb24gX3VwbG9hZEZpbGVzQ29udGludWUob3V0cHV0SWQpIHsKICBjb25zdCBvdXRwdXRFbGVtZW50ID0gZG9jdW1lbnQuZ2V0RWxlbWVudEJ5SWQob3V0cHV0SWQpOwogIGNvbnN0IHN0ZXBzID0gb3V0cHV0RWxlbWVudC5zdGVwczsKCiAgY29uc3QgbmV4dCA9IHN0ZXBzLm5leHQob3V0cHV0RWxlbWVudC5sYXN0UHJvbWlzZVZhbHVlKTsKICByZXR1cm4gUHJvbWlzZS5yZXNvbHZlKG5leHQudmFsdWUucHJvbWlzZSkudGhlbigodmFsdWUpID0+IHsKICAgIC8vIENhY2hlIHRoZSBsYXN0IHByb21pc2UgdmFsdWUgdG8gbWFrZSBpdCBhdmFpbGFibGUgdG8gdGhlIG5leHQKICAgIC8vIHN0ZXAgb2YgdGhlIGdlbmVyYXRvci4KICAgIG91dHB1dEVsZW1lbnQubGFzdFByb21pc2VWYWx1ZSA9IHZhbHVlOwogICAgcmV0dXJuIG5leHQudmFsdWUucmVzcG9uc2U7CiAgfSk7Cn0KCi8qKgogKiBHZW5lcmF0b3IgZnVuY3Rpb24gd2hpY2ggaXMgY2FsbGVkIGJldHdlZW4gZWFjaCBhc3luYyBzdGVwIG9mIHRoZSB1cGxvYWQKICogcHJvY2Vzcy4KICogQHBhcmFtIHtzdHJpbmd9IGlucHV0SWQgRWxlbWVudCBJRCBvZiB0aGUgaW5wdXQgZmlsZSBwaWNrZXIgZWxlbWVudC4KICogQHBhcmFtIHtzdHJpbmd9IG91dHB1dElkIEVsZW1lbnQgSUQgb2YgdGhlIG91dHB1dCBkaXNwbGF5LgogKiBAcmV0dXJuIHshSXRlcmFibGU8IU9iamVjdD59IEl0ZXJhYmxlIG9mIG5leHQgc3RlcHMuCiAqLwpmdW5jdGlvbiogdXBsb2FkRmlsZXNTdGVwKGlucHV0SWQsIG91dHB1dElkKSB7CiAgY29uc3QgaW5wdXRFbGVtZW50ID0gZG9jdW1lbnQuZ2V0RWxlbWVudEJ5SWQoaW5wdXRJZCk7CiAgaW5wdXRFbGVtZW50LmRpc2FibGVkID0gZmFsc2U7CgogIGNvbnN0IG91dHB1dEVsZW1lbnQgPSBkb2N1bWVudC5nZXRFbGVtZW50QnlJZChvdXRwdXRJZCk7CiAgb3V0cHV0RWxlbWVudC5pbm5lckhUTUwgPSAnJzsKCiAgY29uc3QgcGlja2VkUHJvbWlzZSA9IG5ldyBQcm9taXNlKChyZXNvbHZlKSA9PiB7CiAgICBpbnB1dEVsZW1lbnQuYWRkRXZlbnRMaXN0ZW5lcignY2hhbmdlJywgKGUpID0+IHsKICAgICAgcmVzb2x2ZShlLnRhcmdldC5maWxlcyk7CiAgICB9KTsKICB9KTsKCiAgY29uc3QgY2FuY2VsID0gZG9jdW1lbnQuY3JlYXRlRWxlbWVudCgnYnV0dG9uJyk7CiAgaW5wdXRFbGVtZW50LnBhcmVudEVsZW1lbnQuYXBwZW5kQ2hpbGQoY2FuY2VsKTsKICBjYW5jZWwudGV4dENvbnRlbnQgPSAnQ2FuY2VsIHVwbG9hZCc7CiAgY29uc3QgY2FuY2VsUHJvbWlzZSA9IG5ldyBQcm9taXNlKChyZXNvbHZlKSA9PiB7CiAgICBjYW5jZWwub25jbGljayA9ICgpID0+IHsKICAgICAgcmVzb2x2ZShudWxsKTsKICAgIH07CiAgfSk7CgogIC8vIENhbmNlbCB1cGxvYWQgaWYgdXNlciBoYXNuJ3QgcGlja2VkIGFueXRoaW5nIGluIHRpbWVvdXQuCiAgY29uc3QgdGltZW91dFByb21pc2UgPSBuZXcgUHJvbWlzZSgocmVzb2x2ZSkgPT4gewogICAgc2V0VGltZW91dCgoKSA9PiB7CiAgICAgIHJlc29sdmUobnVsbCk7CiAgICB9LCBGSUxFX0NIQU5HRV9USU1FT1VUX01TKTsKICB9KTsKCiAgLy8gV2FpdCBmb3IgdGhlIHVzZXIgdG8gcGljayB0aGUgZmlsZXMuCiAgY29uc3QgZmlsZXMgPSB5aWVsZCB7CiAgICBwcm9taXNlOiBQcm9taXNlLnJhY2UoW3BpY2tlZFByb21pc2UsIHRpbWVvdXRQcm9taXNlLCBjYW5jZWxQcm9taXNlXSksCiAgICByZXNwb25zZTogewogICAgICBhY3Rpb246ICdzdGFydGluZycsCiAgICB9CiAgfTsKCiAgaWYgKCFmaWxlcykgewogICAgcmV0dXJuIHsKICAgICAgcmVzcG9uc2U6IHsKICAgICAgICBhY3Rpb246ICdjb21wbGV0ZScsCiAgICAgIH0KICAgIH07CiAgfQoKICBjYW5jZWwucmVtb3ZlKCk7CgogIC8vIERpc2FibGUgdGhlIGlucHV0IGVsZW1lbnQgc2luY2UgZnVydGhlciBwaWNrcyBhcmUgbm90IGFsbG93ZWQuCiAgaW5wdXRFbGVtZW50LmRpc2FibGVkID0gdHJ1ZTsKCiAgZm9yIChjb25zdCBmaWxlIG9mIGZpbGVzKSB7CiAgICBjb25zdCBsaSA9IGRvY3VtZW50LmNyZWF0ZUVsZW1lbnQoJ2xpJyk7CiAgICBsaS5hcHBlbmQoc3BhbihmaWxlLm5hbWUsIHtmb250V2VpZ2h0OiAnYm9sZCd9KSk7CiAgICBsaS5hcHBlbmQoc3BhbigKICAgICAgICBgKCR7ZmlsZS50eXBlIHx8ICduL2EnfSkgLSAke2ZpbGUuc2l6ZX0gYnl0ZXMsIGAgKwogICAgICAgIGBsYXN0IG1vZGlmaWVkOiAkewogICAgICAgICAgICBmaWxlLmxhc3RNb2RpZmllZERhdGUgPyBmaWxlLmxhc3RNb2RpZmllZERhdGUudG9Mb2NhbGVEYXRlU3RyaW5nKCkgOgogICAgICAgICAgICAgICAgICAgICAgICAgICAgICAgICAgICAnbi9hJ30gLSBgKSk7CiAgICBjb25zdCBwZXJjZW50ID0gc3BhbignMCUgZG9uZScpOwogICAgbGkuYXBwZW5kQ2hpbGQocGVyY2VudCk7CgogICAgb3V0cHV0RWxlbWVudC5hcHBlbmRDaGlsZChsaSk7CgogICAgY29uc3QgZmlsZURhdGFQcm9taXNlID0gbmV3IFByb21pc2UoKHJlc29sdmUpID0+IHsKICAgICAgY29uc3QgcmVhZGVyID0gbmV3IEZpbGVSZWFkZXIoKTsKICAgICAgcmVhZGVyLm9ubG9hZCA9IChlKSA9PiB7CiAgICAgICAgcmVzb2x2ZShlLnRhcmdldC5yZXN1bHQpOwogICAgICB9OwogICAgICByZWFkZXIucmVhZEFzQXJyYXlCdWZmZXIoZmlsZSk7CiAgICB9KTsKICAgIC8vIFdhaXQgZm9yIHRoZSBkYXRhIHRvIGJlIHJlYWR5LgogICAgbGV0IGZpbGVEYXRhID0geWllbGQgewogICAgICBwcm9taXNlOiBmaWxlRGF0YVByb21pc2UsCiAgICAgIHJlc3BvbnNlOiB7CiAgICAgICAgYWN0aW9uOiAnY29udGludWUnLAogICAgICB9CiAgICB9OwoKICAgIC8vIFVzZSBhIGNodW5rZWQgc2VuZGluZyB0byBhdm9pZCBtZXNzYWdlIHNpemUgbGltaXRzLiBTZWUgYi82MjExNTY2MC4KICAgIGxldCBwb3NpdGlvbiA9IDA7CiAgICB3aGlsZSAocG9zaXRpb24gPCBmaWxlRGF0YS5ieXRlTGVuZ3RoKSB7CiAgICAgIGNvbnN0IGxlbmd0aCA9IE1hdGgubWluKGZpbGVEYXRhLmJ5dGVMZW5ndGggLSBwb3NpdGlvbiwgTUFYX1BBWUxPQURfU0laRSk7CiAgICAgIGNvbnN0IGNodW5rID0gbmV3IFVpbnQ4QXJyYXkoZmlsZURhdGEsIHBvc2l0aW9uLCBsZW5ndGgpOwogICAgICBwb3NpdGlvbiArPSBsZW5ndGg7CgogICAgICBjb25zdCBiYXNlNjQgPSBidG9hKFN0cmluZy5mcm9tQ2hhckNvZGUuYXBwbHkobnVsbCwgY2h1bmspKTsKICAgICAgeWllbGQgewogICAgICAgIHJlc3BvbnNlOiB7CiAgICAgICAgICBhY3Rpb246ICdhcHBlbmQnLAogICAgICAgICAgZmlsZTogZmlsZS5uYW1lLAogICAgICAgICAgZGF0YTogYmFzZTY0LAogICAgICAgIH0sCiAgICAgIH07CiAgICAgIHBlcmNlbnQudGV4dENvbnRlbnQgPQogICAgICAgICAgYCR7TWF0aC5yb3VuZCgocG9zaXRpb24gLyBmaWxlRGF0YS5ieXRlTGVuZ3RoKSAqIDEwMCl9JSBkb25lYDsKICAgIH0KICB9CgogIC8vIEFsbCBkb25lLgogIHlpZWxkIHsKICAgIHJlc3BvbnNlOiB7CiAgICAgIGFjdGlvbjogJ2NvbXBsZXRlJywKICAgIH0KICB9Owp9CgpzY29wZS5nb29nbGUgPSBzY29wZS5nb29nbGUgfHwge307CnNjb3BlLmdvb2dsZS5jb2xhYiA9IHNjb3BlLmdvb2dsZS5jb2xhYiB8fCB7fTsKc2NvcGUuZ29vZ2xlLmNvbGFiLl9maWxlcyA9IHsKICBfdXBsb2FkRmlsZXMsCiAgX3VwbG9hZEZpbGVzQ29udGludWUsCn07Cn0pKHNlbGYpOwo=",
              "ok": true,
              "headers": [
                [
                  "content-type",
                  "application/javascript"
                ]
              ],
              "status": 200,
              "status_text": ""
            }
          },
          "base_uri": "https://localhost:8080/",
          "height": 272
        }
      },
      "cell_type": "code",
      "source": [
        "import pandas as pd\n",
        "from google.colab import files\n",
        "uploaded = files.upload()\n",
        "\n",
        "import io\n",
        "df2 = pd.read_excel(io.BytesIO(uploaded['Data_Extract_From_World_Development_Indicators (4).xlsx']))\n",
        "#US_Patents= pd.read_excel(\"Data_Extract_From_World_Development_Indicators. xlsx\")\n",
        "\n",
        "\n",
        "#print(list(US_Patents))\n",
        "\n",
        "#print (\"\\n1. Number of Patents in the United States for Residents\")\n",
        "#US_Patents_col = US_Patents[[\"Time\",\"Patent applications, residents [IP.PAT.RESD]\"]]\n",
        "#print(US_Patents_col.head(10))\n",
        "\n",
        "#print (\"\\n2. Number of Patents in the United States for Non-Residents\")\n",
        "#US_Patents_col = US_Patents[[\"Time\",\"Patent applications, nonresidents [IP.PAT.NRES]\"]]\n",
        "#print(US_Patents_col.head(10))"
      ],
      "execution_count": 42,
      "outputs": [
        {
          "output_type": "display_data",
          "data": {
            "text/html": [
              "\n",
              "     <input type=\"file\" id=\"files-7757eeef-d4cd-4cb4-b1bf-60bdce88e95e\" name=\"files[]\" multiple disabled />\n",
              "     <output id=\"result-7757eeef-d4cd-4cb4-b1bf-60bdce88e95e\">\n",
              "      Upload widget is only available when the cell has been executed in the\n",
              "      current browser session. Please rerun this cell to enable.\n",
              "      </output>\n",
              "      <script src=\"/nbextensions/google.colab/files.js\"></script> "
            ],
            "text/plain": [
              "<IPython.core.display.HTML object>"
            ]
          },
          "metadata": {
            "tags": []
          }
        },
        {
          "output_type": "error",
          "ename": "KeyError",
          "evalue": "ignored",
          "traceback": [
            "\u001b[0;31m---------------------------------------------------------------------------\u001b[0m",
            "\u001b[0;31mKeyError\u001b[0m                                  Traceback (most recent call last)",
            "\u001b[0;32m<ipython-input-42-5f4594fc3ca8>\u001b[0m in \u001b[0;36m<module>\u001b[0;34m()\u001b[0m\n\u001b[1;32m      4\u001b[0m \u001b[0;34m\u001b[0m\u001b[0m\n\u001b[1;32m      5\u001b[0m \u001b[0;32mimport\u001b[0m \u001b[0mio\u001b[0m\u001b[0;34m\u001b[0m\u001b[0;34m\u001b[0m\u001b[0m\n\u001b[0;32m----> 6\u001b[0;31m \u001b[0mdf2\u001b[0m \u001b[0;34m=\u001b[0m \u001b[0mpd\u001b[0m\u001b[0;34m.\u001b[0m\u001b[0mread_excel\u001b[0m\u001b[0;34m(\u001b[0m\u001b[0mio\u001b[0m\u001b[0;34m.\u001b[0m\u001b[0mBytesIO\u001b[0m\u001b[0;34m(\u001b[0m\u001b[0muploaded\u001b[0m\u001b[0;34m[\u001b[0m\u001b[0;34m'Data_Extract_From_World_Development_Indicators (4).xlsx'\u001b[0m\u001b[0;34m]\u001b[0m\u001b[0;34m)\u001b[0m\u001b[0;34m)\u001b[0m\u001b[0;34m\u001b[0m\u001b[0;34m\u001b[0m\u001b[0m\n\u001b[0m\u001b[1;32m      7\u001b[0m \u001b[0;31m#US_Patents= pd.read_excel(\"Data_Extract_From_World_Development_Indicators. xlsx\")\u001b[0m\u001b[0;34m\u001b[0m\u001b[0;34m\u001b[0m\u001b[0;34m\u001b[0m\u001b[0m\n\u001b[1;32m      8\u001b[0m \u001b[0;34m\u001b[0m\u001b[0m\n",
            "\u001b[0;31mKeyError\u001b[0m: 'Data_Extract_From_World_Development_Indicators (4).xlsx'"
          ]
        }
      ]
    }
  ]
}